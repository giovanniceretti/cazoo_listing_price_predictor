{
 "cells": [
  {
   "cell_type": "markdown",
   "id": "9fd047f0-e46f-443a-901b-778069a0c16b",
   "metadata": {},
   "source": [
    "# Linear Regression"
   ]
  },
  {
   "cell_type": "markdown",
   "id": "07cdf579-f021-4f83-8638-280df4f9272a",
   "metadata": {},
   "source": [
    "### Imports"
   ]
  },
  {
   "cell_type": "code",
   "execution_count": 253,
   "id": "2af00d59-718e-4841-b845-6f28c9fa791e",
   "metadata": {},
   "outputs": [],
   "source": [
    "import pandas as pd\n",
    "import numpy as np\n",
    "import seaborn as sns\n",
    "import matplotlib.pyplot as plt\n",
    "from scipy import stats\n",
    "\n",
    "from sklearn.model_selection import train_test_split, GridSearchCV\n",
    "from sklearn.linear_model import LinearRegression, RidgeCV, LassoCV\n",
    "from sklearn.preprocessing import StandardScaler, OneHotEncoder\n",
    "from sklearn import metrics\n",
    "\n",
    "\n",
    "import pickle"
   ]
  },
  {
   "cell_type": "markdown",
   "id": "e4d0f303-cb72-4dd2-aa7d-59f46b564a7a",
   "metadata": {},
   "source": [
    "### Read in Data\n",
    "\n",
    "Removing `car_body` and `car_engine` columns. \n",
    "\n",
    "As one would expect the values in these columns are almost perfectly correlated to the `model` and `trim` columns, respectively. Removing these columns has little effect on the quality of the predictive model and makes the final Streamlit app more user friendly, due to fewer required user inputs."
   ]
  },
  {
   "cell_type": "code",
   "execution_count": 254,
   "id": "3f02d891-19cd-4319-a130-d2b7bb3f9878",
   "metadata": {},
   "outputs": [
    {
     "data": {
      "text/html": [
       "<div>\n",
       "<style scoped>\n",
       "    .dataframe tbody tr th:only-of-type {\n",
       "        vertical-align: middle;\n",
       "    }\n",
       "\n",
       "    .dataframe tbody tr th {\n",
       "        vertical-align: top;\n",
       "    }\n",
       "\n",
       "    .dataframe thead th {\n",
       "        text-align: right;\n",
       "    }\n",
       "</style>\n",
       "<table border=\"1\" class=\"dataframe\">\n",
       "  <thead>\n",
       "    <tr style=\"text-align: right;\">\n",
       "      <th></th>\n",
       "      <th>model</th>\n",
       "      <th>listing_price</th>\n",
       "      <th>trim</th>\n",
       "      <th>mileage</th>\n",
       "      <th>transmission</th>\n",
       "      <th>color</th>\n",
       "      <th>car_make</th>\n",
       "      <th>car_age</th>\n",
       "    </tr>\n",
       "  </thead>\n",
       "  <tbody>\n",
       "    <tr>\n",
       "      <th>0</th>\n",
       "      <td>Q7</td>\n",
       "      <td>57500</td>\n",
       "      <td>3L Black Edition TDI V6</td>\n",
       "      <td>12997</td>\n",
       "      <td>Automatic</td>\n",
       "      <td>Grey</td>\n",
       "      <td>Audi</td>\n",
       "      <td>1.0</td>\n",
       "    </tr>\n",
       "    <tr>\n",
       "      <th>1</th>\n",
       "      <td>Macan</td>\n",
       "      <td>57000</td>\n",
       "      <td>2L T</td>\n",
       "      <td>4706</td>\n",
       "      <td>Automatic</td>\n",
       "      <td>Silver</td>\n",
       "      <td>Porsche</td>\n",
       "      <td>2.0</td>\n",
       "    </tr>\n",
       "    <tr>\n",
       "      <th>2</th>\n",
       "      <td>Macan</td>\n",
       "      <td>56350</td>\n",
       "      <td>3L S T V6</td>\n",
       "      <td>4605</td>\n",
       "      <td>Automatic</td>\n",
       "      <td>Grey</td>\n",
       "      <td>Porsche</td>\n",
       "      <td>2.0</td>\n",
       "    </tr>\n",
       "    <tr>\n",
       "      <th>3</th>\n",
       "      <td>Model 3</td>\n",
       "      <td>55900</td>\n",
       "      <td>Long Range</td>\n",
       "      <td>1614</td>\n",
       "      <td>Automatic</td>\n",
       "      <td>White</td>\n",
       "      <td>Tesla</td>\n",
       "      <td>1.0</td>\n",
       "    </tr>\n",
       "    <tr>\n",
       "      <th>4</th>\n",
       "      <td>Range Rover Sport</td>\n",
       "      <td>55550</td>\n",
       "      <td>3L Autobiography Dynamic SD V6</td>\n",
       "      <td>26375</td>\n",
       "      <td>Automatic</td>\n",
       "      <td>Grey</td>\n",
       "      <td>Land Rover</td>\n",
       "      <td>4.0</td>\n",
       "    </tr>\n",
       "  </tbody>\n",
       "</table>\n",
       "</div>"
      ],
      "text/plain": [
       "               model  listing_price                            trim  mileage  \\\n",
       "0                 Q7          57500         3L Black Edition TDI V6    12997   \n",
       "1              Macan          57000                            2L T     4706   \n",
       "2              Macan          56350                       3L S T V6     4605   \n",
       "3            Model 3          55900                      Long Range     1614   \n",
       "4  Range Rover Sport          55550  3L Autobiography Dynamic SD V6    26375   \n",
       "\n",
       "  transmission   color    car_make  car_age  \n",
       "0    Automatic    Grey        Audi      1.0  \n",
       "1    Automatic  Silver     Porsche      2.0  \n",
       "2    Automatic    Grey     Porsche      2.0  \n",
       "3    Automatic   White       Tesla      1.0  \n",
       "4    Automatic    Grey  Land Rover      4.0  "
      ]
     },
     "execution_count": 254,
     "metadata": {},
     "output_type": "execute_result"
    }
   ],
   "source": [
    "df = pd.read_csv('../datasets/cazoo_cleaned.csv')\n",
    "df.drop(columns = ['car_body', 'car_engine'], inplace= True)\n",
    "df.head()"
   ]
  },
  {
   "cell_type": "markdown",
   "id": "9ac45a29-76ae-4ee6-a7f9-ae17af8d095e",
   "metadata": {},
   "source": [
    "#### Preparing Features and Target Variable\n",
    "\n",
    "The categorical features in the model are encoded, dummified and then concatenated alongside the numeric features in the model. It will be essential that the inputs from the Streamlit app are organised in the same order as the new concatenated dataframe so the predictive model can accurately run.\n",
    "\n",
    "The one-hot encoding is then pickled."
   ]
  },
  {
   "cell_type": "code",
   "execution_count": 255,
   "id": "54a5ffc9-f07b-4cc7-8692-c9d6c0307ac3",
   "metadata": {},
   "outputs": [
    {
     "name": "stderr",
     "output_type": "stream",
     "text": [
      "/Users/giovanniceretti/miniforge3/envs/dsi/lib/python3.10/site-packages/sklearn/utils/deprecation.py:87: FutureWarning: Function get_feature_names is deprecated; get_feature_names is deprecated in 1.0 and will be removed in 1.2. Please use get_feature_names_out instead.\n",
      "  warnings.warn(msg, category=FutureWarning)\n"
     ]
    }
   ],
   "source": [
    "# Split and Prepare the Categorical and Numerical Features \n",
    "categorical_features = df.select_dtypes([object])\n",
    "categorical_feature_names = categorical_features.dtypes.keys()\n",
    "numerical_features = df.select_dtypes(exclude=object)\n",
    "\n",
    "# One Hot Encode Categorical Features\n",
    "enc = OneHotEncoder(sparse=False)\n",
    "categorical_features_enc = enc.fit_transform(categorical_features) \n",
    "dummy_category_names = enc.get_feature_names(categorical_feature_names)\n",
    "\n",
    "# Create a dataframe with all new dummified categorical features\n",
    "categorical_feature_df = pd.DataFrame(categorical_features_enc, columns=dummy_category_names)\n",
    "\n",
    "# Concatenate the Numerical features with the dummified Categorical features\n",
    "df = pd.concat([numerical_features, categorical_feature_df], axis=1)\n",
    "\n",
    "# One-hot encoding model is then pickled\n",
    "pickle.dump(enc, open('../app/model/input_encoder.pkl','wb'))"
   ]
  },
  {
   "cell_type": "code",
   "execution_count": 256,
   "id": "bae618d7-2387-456b-9813-4b6005c70979",
   "metadata": {},
   "outputs": [],
   "source": [
    "X = df.drop(columns=['listing_price'])\n",
    "y = df['listing_price']"
   ]
  },
  {
   "cell_type": "markdown",
   "id": "723a2054-473e-4cde-9fa1-51a76ccc73fd",
   "metadata": {},
   "source": [
    "# Modeling"
   ]
  },
  {
   "cell_type": "markdown",
   "id": "9431de65-788d-42b2-b17c-8c39f64b72f5",
   "metadata": {},
   "source": [
    "### Calculating Null Model Metrics"
   ]
  },
  {
   "cell_type": "markdown",
   "id": "1699c417-c3fa-4ea6-b1b3-a0f1463ebd26",
   "metadata": {},
   "source": [
    "#### Mean Squared Error"
   ]
  },
  {
   "cell_type": "code",
   "execution_count": 257,
   "id": "9cdbb93b-984f-4554-863b-de90f8d433c7",
   "metadata": {
    "tags": []
   },
   "outputs": [
    {
     "data": {
      "text/plain": [
       "48556014.43598784"
      ]
     },
     "execution_count": 257,
     "metadata": {},
     "output_type": "execute_result"
    }
   ],
   "source": [
    "y_bar = np.mean(y)\n",
    "null_mse = np.mean((y - y_bar) ** 2)\n",
    "null_mse"
   ]
  },
  {
   "cell_type": "markdown",
   "id": "0b57350f-857a-439e-965a-3b9f690de5d7",
   "metadata": {},
   "source": [
    "#### Root Mean Squared Error"
   ]
  },
  {
   "cell_type": "code",
   "execution_count": 258,
   "id": "c7be1cf4-ca48-463c-86ec-a1d27d51cd78",
   "metadata": {},
   "outputs": [
    {
     "data": {
      "text/plain": [
       "6968.214580219803"
      ]
     },
     "execution_count": 258,
     "metadata": {},
     "output_type": "execute_result"
    }
   ],
   "source": [
    "null_rmse = null_mse ** .5\n",
    "null_rmse"
   ]
  },
  {
   "cell_type": "markdown",
   "id": "46b6635c-5961-4eaa-9e83-a930be7e4ab2",
   "metadata": {},
   "source": [
    "#### Mean Absolute Error"
   ]
  },
  {
   "cell_type": "code",
   "execution_count": 259,
   "id": "09a7d6ff-10cf-48b4-ade0-b97f3461ba58",
   "metadata": {},
   "outputs": [
    {
     "data": {
      "text/plain": [
       "5368.040690713771"
      ]
     },
     "execution_count": 259,
     "metadata": {},
     "output_type": "execute_result"
    }
   ],
   "source": [
    "absolute_error = 0\n",
    "for i in range(1, len(y)):\n",
    "    absolute_error += abs(y[i] - y_bar)\n",
    "    \n",
    "absolute_error / (len(y))"
   ]
  },
  {
   "cell_type": "markdown",
   "id": "5cfd868a-8c32-4c64-a9e1-06d1b6d41921",
   "metadata": {},
   "source": [
    "### Initial Linear Regression\n",
    "\n",
    "Initial Linear Regression using no Feature Engineering or feature Scaling.\n",
    "\n",
    "The Mean Squared Error from the initial linear regression model shows an immense improvement on the null model."
   ]
  },
  {
   "cell_type": "code",
   "execution_count": 260,
   "id": "c97fc27f-2a0e-4a17-b340-ba57b2b5d469",
   "metadata": {},
   "outputs": [
    {
     "name": "stdout",
     "output_type": "stream",
     "text": [
      "Training R-Squared: 0.9794585412716708\n",
      "Test R-Squared: 0.9383700875496879\n",
      "Mean Squared Error: 2683251.795127452\n",
      "Mean Absolute Error: 1019.6144990999414\n"
     ]
    }
   ],
   "source": [
    "X_train, X_test, y_train, y_test = train_test_split(X, y, test_size = .2, random_state = 88)\n",
    "\n",
    "lr = LinearRegression()\n",
    "lr.fit(X_train, y_train)\n",
    "\n",
    "print(f'Training R-Squared: {lr.score(X_train, y_train)}')\n",
    "print(f'Test R-Squared: {lr.score(X_test, y_test)}')\n",
    "\n",
    "y_preds = lr.predict(X_test)\n",
    "print(f'Mean Squared Error: {metrics.mean_squared_error(y_test, y_preds)}')\n",
    "MAE = metrics.mean_absolute_error(y_test, y_preds)\n",
    "print(f'Mean Absolute Error: {MAE}')"
   ]
  },
  {
   "cell_type": "markdown",
   "id": "e8dbf293-d0cb-4f4b-9e1a-d9295567a93a",
   "metadata": {},
   "source": [
    "### Log Transformation on the `listing_price` target variable\n",
    "\n",
    "Using a Log Transformation on the `listing_price` target variable led to a materially better R-Squared test statistic. Moving forward, the `log_listing_price` column will be used as the target variable."
   ]
  },
  {
   "cell_type": "code",
   "execution_count": 261,
   "id": "9970d615-0299-4b29-8c17-7b39d639d584",
   "metadata": {},
   "outputs": [
    {
     "name": "stdout",
     "output_type": "stream",
     "text": [
      "Training R-Squared: 0.9861370504090744\n",
      "Test R-Squared: 0.9591331307528751\n",
      "Mean Squared Error: 1917700.9249655493\n",
      "Mean Absolute Error: 872.4291169304652\n"
     ]
    }
   ],
   "source": [
    "df_log = df.copy()\n",
    "\n",
    "df_log['log_listing_price'] = np.log(df_log['listing_price'])\n",
    "\n",
    "X = df_log.drop(columns=['listing_price', 'log_listing_price'])\n",
    "y = df_log['log_listing_price']\n",
    "\n",
    "X_train, X_test, y_train, y_test = train_test_split(X, y, test_size = .2, random_state = 88)\n",
    "\n",
    "lr = LinearRegression()\n",
    "lr.fit(X_train, y_train)\n",
    "\n",
    "print(f'Training R-Squared: {lr.score(X_train, y_train)}')\n",
    "print(f'Test R-Squared: {lr.score(X_test, y_test)}')\n",
    "\n",
    "y_preds = lr.predict(X_test)\n",
    "MSE = metrics.mean_squared_error(np.exp(y_test), np.exp(y_preds))\n",
    "print(f'Mean Squared Error: {MSE}')\n",
    "MAE = metrics.mean_absolute_error(np.exp(y_test), np.exp(y_preds))\n",
    "print(f'Mean Absolute Error: {MAE}')"
   ]
  },
  {
   "cell_type": "markdown",
   "id": "9cea8c6c-c5fc-4ffe-9bc9-ce399ebc536e",
   "metadata": {},
   "source": [
    "#### Updating Primary Dataframe to include the Log Transformed Target Variable"
   ]
  },
  {
   "cell_type": "code",
   "execution_count": 262,
   "id": "e87431a3-10f2-472b-a4c2-b516093706d3",
   "metadata": {},
   "outputs": [
    {
     "data": {
      "text/html": [
       "<div>\n",
       "<style scoped>\n",
       "    .dataframe tbody tr th:only-of-type {\n",
       "        vertical-align: middle;\n",
       "    }\n",
       "\n",
       "    .dataframe tbody tr th {\n",
       "        vertical-align: top;\n",
       "    }\n",
       "\n",
       "    .dataframe thead th {\n",
       "        text-align: right;\n",
       "    }\n",
       "</style>\n",
       "<table border=\"1\" class=\"dataframe\">\n",
       "  <thead>\n",
       "    <tr style=\"text-align: right;\">\n",
       "      <th></th>\n",
       "      <th>listing_price</th>\n",
       "      <th>mileage</th>\n",
       "      <th>car_age</th>\n",
       "      <th>model_1 Series</th>\n",
       "      <th>model_108</th>\n",
       "      <th>model_124 Spider</th>\n",
       "      <th>model_2 Series</th>\n",
       "      <th>model_2 Series Active Tourer</th>\n",
       "      <th>model_2 Series Gran Tourer</th>\n",
       "      <th>model_2008</th>\n",
       "      <th>...</th>\n",
       "      <th>car_make_Skoda</th>\n",
       "      <th>car_make_Smart</th>\n",
       "      <th>car_make_Ssangyong</th>\n",
       "      <th>car_make_Suzuki</th>\n",
       "      <th>car_make_Tesla</th>\n",
       "      <th>car_make_Toyota</th>\n",
       "      <th>car_make_Vauxhall</th>\n",
       "      <th>car_make_Volkswagen</th>\n",
       "      <th>car_make_Volvo</th>\n",
       "      <th>log_listing_price</th>\n",
       "    </tr>\n",
       "  </thead>\n",
       "  <tbody>\n",
       "    <tr>\n",
       "      <th>0</th>\n",
       "      <td>57500</td>\n",
       "      <td>12997</td>\n",
       "      <td>1.0</td>\n",
       "      <td>0.0</td>\n",
       "      <td>0.0</td>\n",
       "      <td>0.0</td>\n",
       "      <td>0.0</td>\n",
       "      <td>0.0</td>\n",
       "      <td>0.0</td>\n",
       "      <td>0.0</td>\n",
       "      <td>...</td>\n",
       "      <td>0.0</td>\n",
       "      <td>0.0</td>\n",
       "      <td>0.0</td>\n",
       "      <td>0.0</td>\n",
       "      <td>0.0</td>\n",
       "      <td>0.0</td>\n",
       "      <td>0.0</td>\n",
       "      <td>0.0</td>\n",
       "      <td>0.0</td>\n",
       "      <td>10.959540</td>\n",
       "    </tr>\n",
       "    <tr>\n",
       "      <th>1</th>\n",
       "      <td>57000</td>\n",
       "      <td>4706</td>\n",
       "      <td>2.0</td>\n",
       "      <td>0.0</td>\n",
       "      <td>0.0</td>\n",
       "      <td>0.0</td>\n",
       "      <td>0.0</td>\n",
       "      <td>0.0</td>\n",
       "      <td>0.0</td>\n",
       "      <td>0.0</td>\n",
       "      <td>...</td>\n",
       "      <td>0.0</td>\n",
       "      <td>0.0</td>\n",
       "      <td>0.0</td>\n",
       "      <td>0.0</td>\n",
       "      <td>0.0</td>\n",
       "      <td>0.0</td>\n",
       "      <td>0.0</td>\n",
       "      <td>0.0</td>\n",
       "      <td>0.0</td>\n",
       "      <td>10.950807</td>\n",
       "    </tr>\n",
       "    <tr>\n",
       "      <th>2</th>\n",
       "      <td>56350</td>\n",
       "      <td>4605</td>\n",
       "      <td>2.0</td>\n",
       "      <td>0.0</td>\n",
       "      <td>0.0</td>\n",
       "      <td>0.0</td>\n",
       "      <td>0.0</td>\n",
       "      <td>0.0</td>\n",
       "      <td>0.0</td>\n",
       "      <td>0.0</td>\n",
       "      <td>...</td>\n",
       "      <td>0.0</td>\n",
       "      <td>0.0</td>\n",
       "      <td>0.0</td>\n",
       "      <td>0.0</td>\n",
       "      <td>0.0</td>\n",
       "      <td>0.0</td>\n",
       "      <td>0.0</td>\n",
       "      <td>0.0</td>\n",
       "      <td>0.0</td>\n",
       "      <td>10.939338</td>\n",
       "    </tr>\n",
       "    <tr>\n",
       "      <th>3</th>\n",
       "      <td>55900</td>\n",
       "      <td>1614</td>\n",
       "      <td>1.0</td>\n",
       "      <td>0.0</td>\n",
       "      <td>0.0</td>\n",
       "      <td>0.0</td>\n",
       "      <td>0.0</td>\n",
       "      <td>0.0</td>\n",
       "      <td>0.0</td>\n",
       "      <td>0.0</td>\n",
       "      <td>...</td>\n",
       "      <td>0.0</td>\n",
       "      <td>0.0</td>\n",
       "      <td>0.0</td>\n",
       "      <td>0.0</td>\n",
       "      <td>1.0</td>\n",
       "      <td>0.0</td>\n",
       "      <td>0.0</td>\n",
       "      <td>0.0</td>\n",
       "      <td>0.0</td>\n",
       "      <td>10.931320</td>\n",
       "    </tr>\n",
       "    <tr>\n",
       "      <th>4</th>\n",
       "      <td>55550</td>\n",
       "      <td>26375</td>\n",
       "      <td>4.0</td>\n",
       "      <td>0.0</td>\n",
       "      <td>0.0</td>\n",
       "      <td>0.0</td>\n",
       "      <td>0.0</td>\n",
       "      <td>0.0</td>\n",
       "      <td>0.0</td>\n",
       "      <td>0.0</td>\n",
       "      <td>...</td>\n",
       "      <td>0.0</td>\n",
       "      <td>0.0</td>\n",
       "      <td>0.0</td>\n",
       "      <td>0.0</td>\n",
       "      <td>0.0</td>\n",
       "      <td>0.0</td>\n",
       "      <td>0.0</td>\n",
       "      <td>0.0</td>\n",
       "      <td>0.0</td>\n",
       "      <td>10.925039</td>\n",
       "    </tr>\n",
       "  </tbody>\n",
       "</table>\n",
       "<p>5 rows × 1701 columns</p>\n",
       "</div>"
      ],
      "text/plain": [
       "   listing_price  mileage  car_age  model_1 Series  model_108  \\\n",
       "0          57500    12997      1.0             0.0        0.0   \n",
       "1          57000     4706      2.0             0.0        0.0   \n",
       "2          56350     4605      2.0             0.0        0.0   \n",
       "3          55900     1614      1.0             0.0        0.0   \n",
       "4          55550    26375      4.0             0.0        0.0   \n",
       "\n",
       "   model_124 Spider  model_2 Series  model_2 Series Active Tourer  \\\n",
       "0               0.0             0.0                           0.0   \n",
       "1               0.0             0.0                           0.0   \n",
       "2               0.0             0.0                           0.0   \n",
       "3               0.0             0.0                           0.0   \n",
       "4               0.0             0.0                           0.0   \n",
       "\n",
       "   model_2 Series Gran Tourer  model_2008  ...  car_make_Skoda  \\\n",
       "0                         0.0         0.0  ...             0.0   \n",
       "1                         0.0         0.0  ...             0.0   \n",
       "2                         0.0         0.0  ...             0.0   \n",
       "3                         0.0         0.0  ...             0.0   \n",
       "4                         0.0         0.0  ...             0.0   \n",
       "\n",
       "   car_make_Smart  car_make_Ssangyong  car_make_Suzuki  car_make_Tesla  \\\n",
       "0             0.0                 0.0              0.0             0.0   \n",
       "1             0.0                 0.0              0.0             0.0   \n",
       "2             0.0                 0.0              0.0             0.0   \n",
       "3             0.0                 0.0              0.0             1.0   \n",
       "4             0.0                 0.0              0.0             0.0   \n",
       "\n",
       "   car_make_Toyota  car_make_Vauxhall  car_make_Volkswagen  car_make_Volvo  \\\n",
       "0              0.0                0.0                  0.0             0.0   \n",
       "1              0.0                0.0                  0.0             0.0   \n",
       "2              0.0                0.0                  0.0             0.0   \n",
       "3              0.0                0.0                  0.0             0.0   \n",
       "4              0.0                0.0                  0.0             0.0   \n",
       "\n",
       "   log_listing_price  \n",
       "0          10.959540  \n",
       "1          10.950807  \n",
       "2          10.939338  \n",
       "3          10.931320  \n",
       "4          10.925039  \n",
       "\n",
       "[5 rows x 1701 columns]"
      ]
     },
     "execution_count": 262,
     "metadata": {},
     "output_type": "execute_result"
    }
   ],
   "source": [
    "df['log_listing_price'] = np.log(df['listing_price'])\n",
    "df.head()"
   ]
  },
  {
   "cell_type": "markdown",
   "id": "42d4ce21-3253-414b-9f9f-5b5b4457d201",
   "metadata": {},
   "source": [
    "### Linear Regression with Feature Engineering on `car_age` & `mileage` columns\n",
    "\n",
    "This dataframe had two numerical features which could be leveraged to create new features to improve the predictive capabilities of the model.\n",
    "\n",
    "Three feature engineering efforts were tried:\n",
    "1. Scaling the `car_age` column by raising the column values to the power of certain inputs.\n",
    "    - With trial and error it was idenfied that the input power that generated the best R-Squared test statistic was the square root of the `car_age`\n",
    "2. Scaling the `mileage` column by putting the column values to the power of certain inputs.\n",
    "    - With trial and error it was idenfied that the power that generated the best R-Squared test statistic was the square root of the `mileage`\n",
    "3. The creation of a `miles_per_year` column to identify miles driven per year for each listing.\n",
    "\n",
    "The results of these efforts showed that a model with only the `car_age` feature scaled produced the highest R-Squared test statistic and lowest Mean Squared Error statistic. Therefore moving forward, this engineered feature will be included."
   ]
  },
  {
   "cell_type": "markdown",
   "id": "fa336780-1c6e-4e86-bdae-8176ef30548a",
   "metadata": {},
   "source": [
    "#### Model with `car_age` Feature Engineering"
   ]
  },
  {
   "cell_type": "code",
   "execution_count": 263,
   "id": "29bb6933-e58f-4f1a-aff7-581600c22f3c",
   "metadata": {},
   "outputs": [
    {
     "name": "stdout",
     "output_type": "stream",
     "text": [
      "Training R-Squared: 0.985806922021318\n",
      "Test R-Squared: 0.9602618173621087\n",
      "Mean Squared Error: 1853225.726591467\n",
      "Mean Absolute Error: 867.7001607331606\n"
     ]
    }
   ],
   "source": [
    "df_feat_eng = df.copy()\n",
    "\n",
    "df_feat_eng['car_age'] = df_feat_eng['car_age'] ** .5\n",
    "\n",
    "X = df_feat_eng.drop(columns=['listing_price', 'log_listing_price'])\n",
    "y = df_feat_eng['log_listing_price']\n",
    "\n",
    "X_train, X_test, y_train, y_test = train_test_split(X, y, test_size = .2, random_state = 88)\n",
    "\n",
    "lr = LinearRegression()\n",
    "lr.fit(X_train, y_train)\n",
    "\n",
    "print(f'Training R-Squared: {lr.score(X_train, y_train)}')\n",
    "print(f'Test R-Squared: {lr.score(X_test, y_test)}')\n",
    "\n",
    "y_preds = lr.predict(X_test)\n",
    "MSE = metrics.mean_squared_error(np.exp(y_test), np.exp(y_preds))\n",
    "print(f'Mean Squared Error: {MSE}')\n",
    "MAE = metrics.mean_absolute_error(np.exp(y_test), np.exp(y_preds))\n",
    "print(f'Mean Absolute Error: {MAE}')"
   ]
  },
  {
   "cell_type": "markdown",
   "id": "322d07e4-c26e-4ce2-8289-ded763ed8d12",
   "metadata": {},
   "source": [
    "#### Updating the final model dataframe to include the feature change"
   ]
  },
  {
   "cell_type": "code",
   "execution_count": 264,
   "id": "ea4a86bc-0336-452b-9bce-6221e33d3351",
   "metadata": {},
   "outputs": [],
   "source": [
    "df['car_age'] = df['car_age'] ** .5\n",
    "df.rename(columns={\"car_age\": \"car_age_sqrt\"}, inplace = True)"
   ]
  },
  {
   "cell_type": "markdown",
   "id": "9e6763e8-29c9-4137-90c5-2c89c65d5372",
   "metadata": {},
   "source": [
    "# Model Analysis"
   ]
  },
  {
   "cell_type": "markdown",
   "id": "b2c6d22f-7d93-46e6-bb03-c9f377ce7aa4",
   "metadata": {},
   "source": [
    "### Interpretting the Model Results\n",
    "\n",
    "##### `listing_price` Column statistics\n",
    "\n",
    "- Standard Deviation: £6,968<br>\n",
    "- Mean: £17,346<br>\n",
    "- Median: £15,550<br>\n",
    "\n",
    "##### Null Model Metrics\n",
    "\n",
    "- Null Model Mean Squared Error: £48,556,014<br>\n",
    "- Null Model Root Mean Squared Error: £6,968<br>\n",
    "- Null Model Mean Absolute Error: £5,368\n",
    "\n",
    "##### Best Performing Predictive Model Metrics\n",
    "\n",
    "- Model MSE: £1,853,225<br>\n",
    "- Model RMSE: £1,361<br>\n",
    "- Model MAE: £867\n",
    "\n",
    "The best performing predictive model shows a material improvement to the null model. RMSE and MAE statistics showed an improvement of 80% and 84%, respectively.\n",
    "\n",
    "The model's MAE is equal to 1/8th of the standard deviation of the listing prices, which underlines the model's high predciitve capacity."
   ]
  },
  {
   "cell_type": "code",
   "execution_count": 265,
   "id": "0d244f1b-6604-4c08-ac9e-b631f79f7813",
   "metadata": {},
   "outputs": [
    {
     "data": {
      "text/plain": [
       "count     6909.000000\n",
       "mean     17345.599942\n",
       "std       6968.718920\n",
       "min       5700.000000\n",
       "25%      12350.000000\n",
       "50%      15550.000000\n",
       "75%      21050.000000\n",
       "max      57500.000000\n",
       "Name: listing_price, dtype: float64"
      ]
     },
     "execution_count": 265,
     "metadata": {},
     "output_type": "execute_result"
    }
   ],
   "source": [
    "df['listing_price'].describe()"
   ]
  },
  {
   "cell_type": "markdown",
   "id": "717c1c4f-dd0c-4913-a1f1-29977adc35c2",
   "metadata": {},
   "source": [
    "### Predicted vs True Listing Price Plot\n",
    "\n",
    "The plot below shows that the model is adept at predicting the listing prices of cars with a value of less than £30,000. If the model has to predict the listing price of more valuable, its predictions are not as strong.\n",
    "\n",
    "This should still be considered an excellent result as 95% of cars from the dataset had a listing price of less than £30,000."
   ]
  },
  {
   "cell_type": "code",
   "execution_count": 266,
   "id": "dd714630-67a8-47cc-b016-29ce04596cca",
   "metadata": {},
   "outputs": [
    {
     "data": {
      "image/png": "[encoded data removed]",
      "text/plain": [
       "<Figure size 720x720 with 1 Axes>"
      ]
     },
     "metadata": {
      "needs_background": "light"
     },
     "output_type": "display_data"
    }
   ],
   "source": [
    "plt.figure(figsize = (10, 10))\n",
    "p = sns.scatterplot(x = np.exp(y_test),\n",
    "        y = np.exp(lr.predict(X_test)));\n",
    "p.set_title('True Listing Price vs Predicted Listing Price')\n",
    "p.set_xlabel(\"True Listing Price (£)\")\n",
    "p.set_ylabel(\"Predicted Listing Price (£)\")\n",
    "p.plot(p.get_xlim(), p.get_ylim(), ls=\"--\", c=\".2\");\n",
    "plt.savefig('../images/predicted_vs_true_listing_price.png')"
   ]
  },
  {
   "cell_type": "markdown",
   "id": "1d240292-cec5-4276-98f5-b7e9a09ccc80",
   "metadata": {},
   "source": [
    "#### Percentile Rank of a `listing_price` of £30,000"
   ]
  },
  {
   "cell_type": "code",
   "execution_count": 267,
   "id": "114c2676-5611-44c3-8789-28bd82912193",
   "metadata": {},
   "outputs": [
    {
     "data": {
      "text/plain": [
       "94.96309161962657"
      ]
     },
     "execution_count": 267,
     "metadata": {},
     "output_type": "execute_result"
    }
   ],
   "source": [
    "stats.percentileofscore(df['listing_price'], 30000, kind='rank')"
   ]
  },
  {
   "cell_type": "markdown",
   "id": "2d7af8ed-b3b6-4a19-9aab-1cae0023fa31",
   "metadata": {},
   "source": [
    "### Analysis of Residuals\n",
    "\n",
    "From the plots below we can see that the model is more likely to predict a listing price greater than the actual listing price.\n",
    "\n",
    "Furthermore, the above statement on the model being a better predicter of listing prices of lower value car is confirmed by the plot plotting residuals vs listing price predictions. In this plot, you can see greater bunching around the zero residual line amongst the lower listing price vehicles."
   ]
  },
  {
   "cell_type": "code",
   "execution_count": 268,
   "id": "8c9eda8e-f1da-464a-ba00-0ff036104e34",
   "metadata": {},
   "outputs": [],
   "source": [
    "y_preds = np.exp(lr.predict(X_test))\n",
    "y_test = np.exp(y_test)\n",
    "residuals = y_test - y_preds"
   ]
  },
  {
   "cell_type": "markdown",
   "id": "3487c418-ec54-49ef-b0a4-13e4cb1312cd",
   "metadata": {},
   "source": [
    "#### Histogram of Residuals"
   ]
  },
  {
   "cell_type": "code",
   "execution_count": 269,
   "id": "b88bbd98-ee89-4025-8301-cff1fd108ee5",
   "metadata": {},
   "outputs": [
    {
     "data": {
      "image/png": "[encoded data removed]",
      "text/plain": [
       "<Figure size 936x504 with 1 Axes>"
      ]
     },
     "metadata": {
      "needs_background": "light"
     },
     "output_type": "display_data"
    }
   ],
   "source": [
    "plt.figure(figsize = (13, 7))\n",
    "plt.title('Distribution of Residuals')\n",
    "plt.xlabel(\"Size of Residual (£)\")\n",
    "plt.ylabel(\"Frequency\")\n",
    "plt.hist(residuals, bins = 10);\n",
    "plt.savefig('../images/res_dist.png', transparent=True, bbox_inches='tight')\n",
    "plt.show()"
   ]
  },
  {
   "cell_type": "markdown",
   "id": "5b03e21f-2381-422e-8e76-ef7101e0ac53",
   "metadata": {},
   "source": [
    "#### Plot of Residuals vs Listing Price Predictions"
   ]
  },
  {
   "cell_type": "code",
   "execution_count": 270,
   "id": "2f9f17c1-242c-4e03-b51f-211a31d99c27",
   "metadata": {},
   "outputs": [
    {
     "data": {
      "image/png": "[encoded data removed]",
      "text/plain": [
       "<Figure size 720x504 with 1 Axes>"
      ]
     },
     "metadata": {
      "needs_background": "light"
     },
     "output_type": "display_data"
    }
   ],
   "source": [
    "plt.figure(figsize = (10, 7))\n",
    "plt.scatter(y_preds, residuals)\n",
    "plt.title('Predictions and Residuals')\n",
    "plt.xlabel(\"Listing Price Prediction (£)\")\n",
    "plt.ylabel(\"Size of Residual (£)\")\n",
    "plt.axhline(0, color = 'orange');\n",
    "plt.savefig('../images/res_var.png', transparent=True, bbox_inches='tight')\n",
    "plt.show()"
   ]
  },
  {
   "cell_type": "markdown",
   "id": "bdd01a19-f08b-4207-9ae7-be6cdb0d6b6a",
   "metadata": {},
   "source": [
    "# Pickling"
   ]
  },
  {
   "cell_type": "markdown",
   "id": "7368eae6-77f0-4018-98ae-2ac79249e90d",
   "metadata": {},
   "source": [
    "### Pickling the Predictive Model"
   ]
  },
  {
   "cell_type": "code",
   "execution_count": 271,
   "id": "2d9f7a45-ce35-4f4c-bba4-d2042fcff05c",
   "metadata": {},
   "outputs": [
    {
     "data": {
      "text/html": [
       "<style>#sk-container-id-7 {color: black;background-color: white;}#sk-container-id-7 pre{padding: 0;}#sk-container-id-7 div.sk-toggleable {background-color: white;}#sk-container-id-7 label.sk-toggleable__label {cursor: pointer;display: block;width: 100%;margin-bottom: 0;padding: 0.3em;box-sizing: border-box;text-align: center;}#sk-container-id-7 label.sk-toggleable__label-arrow:before {content: \"▸\";float: left;margin-right: 0.25em;color: #696969;}#sk-container-id-7 label.sk-toggleable__label-arrow:hover:before {color: black;}#sk-container-id-7 div.sk-estimator:hover label.sk-toggleable__label-arrow:before {color: black;}#sk-container-id-7 div.sk-toggleable__content {max-height: 0;max-width: 0;overflow: hidden;text-align: left;background-color: #f0f8ff;}#sk-container-id-7 div.sk-toggleable__content pre {margin: 0.2em;color: black;border-radius: 0.25em;background-color: #f0f8ff;}#sk-container-id-7 input.sk-toggleable__control:checked~div.sk-toggleable__content {max-height: 200px;max-width: 100%;overflow: auto;}#sk-container-id-7 input.sk-toggleable__control:checked~label.sk-toggleable__label-arrow:before {content: \"▾\";}#sk-container-id-7 div.sk-estimator input.sk-toggleable__control:checked~label.sk-toggleable__label {background-color: #d4ebff;}#sk-container-id-7 div.sk-label input.sk-toggleable__control:checked~label.sk-toggleable__label {background-color: #d4ebff;}#sk-container-id-7 input.sk-hidden--visually {border: 0;clip: rect(1px 1px 1px 1px);clip: rect(1px, 1px, 1px, 1px);height: 1px;margin: -1px;overflow: hidden;padding: 0;position: absolute;width: 1px;}#sk-container-id-7 div.sk-estimator {font-family: monospace;background-color: #f0f8ff;border: 1px dotted black;border-radius: 0.25em;box-sizing: border-box;margin-bottom: 0.5em;}#sk-container-id-7 div.sk-estimator:hover {background-color: #d4ebff;}#sk-container-id-7 div.sk-parallel-item::after {content: \"\";width: 100%;border-bottom: 1px solid gray;flex-grow: 1;}#sk-container-id-7 div.sk-label:hover label.sk-toggleable__label {background-color: #d4ebff;}#sk-container-id-7 div.sk-serial::before {content: \"\";position: absolute;border-left: 1px solid gray;box-sizing: border-box;top: 0;bottom: 0;left: 50%;z-index: 0;}#sk-container-id-7 div.sk-serial {display: flex;flex-direction: column;align-items: center;background-color: white;padding-right: 0.2em;padding-left: 0.2em;position: relative;}#sk-container-id-7 div.sk-item {position: relative;z-index: 1;}#sk-container-id-7 div.sk-parallel {display: flex;align-items: stretch;justify-content: center;background-color: white;position: relative;}#sk-container-id-7 div.sk-item::before, #sk-container-id-7 div.sk-parallel-item::before {content: \"\";position: absolute;border-left: 1px solid gray;box-sizing: border-box;top: 0;bottom: 0;left: 50%;z-index: -1;}#sk-container-id-7 div.sk-parallel-item {display: flex;flex-direction: column;z-index: 1;position: relative;background-color: white;}#sk-container-id-7 div.sk-parallel-item:first-child::after {align-self: flex-end;width: 50%;}#sk-container-id-7 div.sk-parallel-item:last-child::after {align-self: flex-start;width: 50%;}#sk-container-id-7 div.sk-parallel-item:only-child::after {width: 0;}#sk-container-id-7 div.sk-dashed-wrapped {border: 1px dashed gray;margin: 0 0.4em 0.5em 0.4em;box-sizing: border-box;padding-bottom: 0.4em;background-color: white;}#sk-container-id-7 div.sk-label label {font-family: monospace;font-weight: bold;display: inline-block;line-height: 1.2em;}#sk-container-id-7 div.sk-label-container {text-align: center;}#sk-container-id-7 div.sk-container {/* jupyter's `normalize.less` sets `[hidden] { display: none; }` but bootstrap.min.css set `[hidden] { display: none !important; }` so we also need the `!important` here to be able to override the default hidden behavior on the sphinx rendered scikit-learn.org. See: https://github.com/scikit-learn/scikit-learn/issues/21755 */display: inline-block !important;position: relative;}#sk-container-id-7 div.sk-text-repr-fallback {display: none;}</style><div id=\"sk-container-id-7\" class=\"sk-top-container\"><div class=\"sk-text-repr-fallback\"><pre>LinearRegression()</pre><b>In a Jupyter environment, please rerun this cell to show the HTML representation or trust the notebook. <br />On GitHub, the HTML representation is unable to render, please try loading this page with nbviewer.org.</b></div><div class=\"sk-container\" hidden><div class=\"sk-item\"><div class=\"sk-estimator sk-toggleable\"><input class=\"sk-toggleable__control sk-hidden--visually\" id=\"sk-estimator-id-7\" type=\"checkbox\" checked><label for=\"sk-estimator-id-7\" class=\"sk-toggleable__label sk-toggleable__label-arrow\">LinearRegression</label><div class=\"sk-toggleable__content\"><pre>LinearRegression()</pre></div></div></div></div></div>"
      ],
      "text/plain": [
       "LinearRegression()"
      ]
     },
     "execution_count": 271,
     "metadata": {},
     "output_type": "execute_result"
    }
   ],
   "source": [
    "X = df.drop(columns=['listing_price', 'log_listing_price'])\n",
    "y = df['log_listing_price']\n",
    "\n",
    "X_train, X_test, y_train, y_test = train_test_split(X, y, test_size = .2, random_state = 88)\n",
    "\n",
    "lr = LinearRegression()\n",
    "lr.fit(X_train, y_train)"
   ]
  },
  {
   "cell_type": "code",
   "execution_count": 272,
   "id": "cffc4f1d-ba36-49e0-bbd6-e9ab16e29c43",
   "metadata": {},
   "outputs": [],
   "source": [
    "with open('../app/model/cazoo_streamlit.pkl', 'wb') as f:\n",
    "    pickle.dump(lr, f)"
   ]
  },
  {
   "cell_type": "markdown",
   "id": "617aeb54-e04d-43b1-a468-6d6f920d8854",
   "metadata": {},
   "source": [
    "### Pickling the Features for Streamlit App Inputs\n",
    "\n",
    "Creating a dictionary connecting Car Make & Car Model and Car Model and Trim. This will allow the Streamlit to have a dependent drop down menu.\n",
    "\n",
    "Sorting the feature lists so that they show up alphabetically on the app."
   ]
  },
  {
   "cell_type": "code",
   "execution_count": 273,
   "id": "511a87f8-926c-40cb-9d23-956676b5d673",
   "metadata": {},
   "outputs": [],
   "source": [
    "pkld_df = pd.read_csv('./../datasets/cazoo_cleaned.csv')\n",
    "make_model_dict = pkld_df.groupby('car_make')['model'].unique().agg(list).to_dict()\n",
    "model_trim_dict = pkld_df.groupby('model')['trim'].unique().agg(list).to_dict()"
   ]
  },
  {
   "cell_type": "code",
   "execution_count": 274,
   "id": "71d37205-48d4-4292-8cd3-14fc73545e25",
   "metadata": {},
   "outputs": [],
   "source": [
    "pickle.dump(make_model_dict, open('../app/model/make_model_dict.pkl','wb'))\n",
    "pickle.dump(model_trim_dict, open('../app/model/model_trim_dict.pkl','wb'))\n",
    "pickle.dump(sorted(pkld_df['transmission'].unique()), open('../app/model/transmission_list.pkl','wb'))\n",
    "pickle.dump(sorted(pkld_df['color'].unique()), open('../app/model/color_list.pkl','wb'))"
   ]
  }
 ],
 "metadata": {
  "kernelspec": {
   "display_name": "Python 3 (ipykernel)",
   "language": "python",
   "name": "python3"
  },
  "language_info": {
   "codemirror_mode": {
    "name": "ipython",
    "version": 3
   },
   "file_extension": ".py",
   "mimetype": "text/x-python",
   "name": "python",
   "nbconvert_exporter": "python",
   "pygments_lexer": "ipython3",
   "version": "3.10.5"
  }
 },
 "nbformat": 4,
 "nbformat_minor": 5
}
