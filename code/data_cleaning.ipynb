{
 "cells": [
  {
   "cell_type": "markdown",
   "id": "84c28d64-8c80-419b-9600-246249b7b332",
   "metadata": {},
   "source": [
    "# Data Cleaning"
   ]
  },
  {
   "cell_type": "markdown",
   "id": "b7fea148-5245-4044-9835-8d5cc7d52d85",
   "metadata": {},
   "source": [
    "### Imports"
   ]
  },
  {
   "cell_type": "code",
   "execution_count": 13,
   "id": "fb9b8658-eeb0-4b2d-b563-98fd3f142698",
   "metadata": {},
   "outputs": [],
   "source": [
    "import pandas as pd\n",
    "import numpy as np\n",
    "import matplotlib.pyplot as plt"
   ]
  },
  {
   "cell_type": "markdown",
   "id": "8f9bf471-4988-48a8-8f28-b0322e969226",
   "metadata": {},
   "source": [
    "### Read in Data"
   ]
  },
  {
   "cell_type": "code",
   "execution_count": 14,
   "id": "e227e3f8-0f99-46c1-915d-235240099b65",
   "metadata": {},
   "outputs": [],
   "source": [
    "df = pd.read_csv('../datasets/cazoo_raw_data.csv')"
   ]
  },
  {
   "cell_type": "markdown",
   "id": "3d293b24-770b-4d96-bb90-c4da4b11e5a6",
   "metadata": {},
   "source": [
    "### Removing Duplicate Listings"
   ]
  },
  {
   "cell_type": "code",
   "execution_count": 15,
   "id": "5c9924f5-a33f-45ad-aff9-8568fa82d4e0",
   "metadata": {},
   "outputs": [
    {
     "data": {
      "text/plain": [
       "(7198, 11)"
      ]
     },
     "execution_count": 15,
     "metadata": {},
     "output_type": "execute_result"
    }
   ],
   "source": [
    "df = df.drop_duplicates(subset=['car_page_url'], keep='first')\n",
    "df.shape"
   ]
  },
  {
   "cell_type": "markdown",
   "id": "a29c5c2d-a438-492c-a776-e5407984657a",
   "metadata": {},
   "source": [
    "### Checking for Nulls\n",
    "\n",
    "Certain vehicles, like Teslas, are electric and thus do not have any a engine type listed. As such, these values will be assigned 'Electric'.\n",
    "\n",
    "Some BMW i3 models have no specified trim; these null values were assigned as \"No Trim Specified\"."
   ]
  },
  {
   "cell_type": "code",
   "execution_count": 16,
   "id": "f6cafe11-edc8-4854-a782-0755444e00a7",
   "metadata": {},
   "outputs": [
    {
     "data": {
      "text/plain": [
       "Unnamed: 0         0\n",
       "model              1\n",
       "listing_price      1\n",
       "trim               3\n",
       "reg_date           1\n",
       "mileage            1\n",
       "transmission       1\n",
       "color              1\n",
       "car_body           1\n",
       "car_engine       120\n",
       "car_page_url       0\n",
       "dtype: int64"
      ]
     },
     "execution_count": 16,
     "metadata": {},
     "output_type": "execute_result"
    }
   ],
   "source": [
    "df.isnull().sum()"
   ]
  },
  {
   "cell_type": "code",
   "execution_count": 17,
   "id": "f122bef1-14a7-4f2c-acbf-4434cee9ee1c",
   "metadata": {},
   "outputs": [],
   "source": [
    "df['car_engine'] = df['car_engine'].fillna('Electric')\n",
    "df['trim'] = df['trim'].fillna('No Trim Specified')\n",
    "df.dropna(inplace = True)"
   ]
  },
  {
   "cell_type": "markdown",
   "id": "52894ebf-7226-4fa5-b321-4bb1fd273246",
   "metadata": {},
   "source": [
    "### Removing Unnecessary Columns"
   ]
  },
  {
   "cell_type": "code",
   "execution_count": 18,
   "id": "b017c08d-a1f1-4d92-9b61-532bd378d0e0",
   "metadata": {},
   "outputs": [
    {
     "data": {
      "text/html": [
       "<div>\n",
       "<style scoped>\n",
       "    .dataframe tbody tr th:only-of-type {\n",
       "        vertical-align: middle;\n",
       "    }\n",
       "\n",
       "    .dataframe tbody tr th {\n",
       "        vertical-align: top;\n",
       "    }\n",
       "\n",
       "    .dataframe thead th {\n",
       "        text-align: right;\n",
       "    }\n",
       "</style>\n",
       "<table border=\"1\" class=\"dataframe\">\n",
       "  <thead>\n",
       "    <tr style=\"text-align: right;\">\n",
       "      <th></th>\n",
       "      <th>model</th>\n",
       "      <th>listing_price</th>\n",
       "      <th>trim</th>\n",
       "      <th>reg_date</th>\n",
       "      <th>mileage</th>\n",
       "      <th>transmission</th>\n",
       "      <th>color</th>\n",
       "      <th>car_body</th>\n",
       "      <th>car_engine</th>\n",
       "    </tr>\n",
       "  </thead>\n",
       "  <tbody>\n",
       "    <tr>\n",
       "      <th>0</th>\n",
       "      <td>Audi Q7</td>\n",
       "      <td>£57,500</td>\n",
       "      <td>3L Black Edition TDI V6</td>\n",
       "      <td>Jun 2021</td>\n",
       "      <td>12,997 miles</td>\n",
       "      <td>Automatic</td>\n",
       "      <td>Grey</td>\n",
       "      <td>5 door SUV</td>\n",
       "      <td>3L</td>\n",
       "    </tr>\n",
       "    <tr>\n",
       "      <th>1</th>\n",
       "      <td>Porsche Macan</td>\n",
       "      <td>£57,000</td>\n",
       "      <td>2L T</td>\n",
       "      <td>Dec 2020</td>\n",
       "      <td>4,706 miles</td>\n",
       "      <td>Automatic</td>\n",
       "      <td>Silver</td>\n",
       "      <td>5 door SUV</td>\n",
       "      <td>2L</td>\n",
       "    </tr>\n",
       "    <tr>\n",
       "      <th>2</th>\n",
       "      <td>Porsche Macan</td>\n",
       "      <td>£56,350</td>\n",
       "      <td>3L S T V6</td>\n",
       "      <td>Jul 2020</td>\n",
       "      <td>4,605 miles</td>\n",
       "      <td>Automatic</td>\n",
       "      <td>Grey</td>\n",
       "      <td>5 door SUV</td>\n",
       "      <td>3L</td>\n",
       "    </tr>\n",
       "    <tr>\n",
       "      <th>3</th>\n",
       "      <td>Tesla Model 3</td>\n",
       "      <td>£55,900</td>\n",
       "      <td>Long Range</td>\n",
       "      <td>Dec 2021</td>\n",
       "      <td>1,614 miles</td>\n",
       "      <td>Automatic</td>\n",
       "      <td>White</td>\n",
       "      <td>4 door Saloon</td>\n",
       "      <td>Electric</td>\n",
       "    </tr>\n",
       "    <tr>\n",
       "      <th>4</th>\n",
       "      <td>Land Rover Range Rover Sport</td>\n",
       "      <td>£55,550</td>\n",
       "      <td>3L Autobiography Dynamic SD V6</td>\n",
       "      <td>Mar 2018</td>\n",
       "      <td>26,375 miles</td>\n",
       "      <td>Automatic</td>\n",
       "      <td>Grey</td>\n",
       "      <td>5 door SUV</td>\n",
       "      <td>3L</td>\n",
       "    </tr>\n",
       "  </tbody>\n",
       "</table>\n",
       "</div>"
      ],
      "text/plain": [
       "                          model listing_price                            trim  \\\n",
       "0                       Audi Q7       £57,500         3L Black Edition TDI V6   \n",
       "1                 Porsche Macan       £57,000                            2L T   \n",
       "2                 Porsche Macan       £56,350                       3L S T V6   \n",
       "3                 Tesla Model 3       £55,900                      Long Range   \n",
       "4  Land Rover Range Rover Sport       £55,550  3L Autobiography Dynamic SD V6   \n",
       "\n",
       "   reg_date       mileage transmission   color       car_body car_engine  \n",
       "0  Jun 2021  12,997 miles    Automatic    Grey     5 door SUV         3L  \n",
       "1  Dec 2020   4,706 miles    Automatic  Silver     5 door SUV         2L  \n",
       "2  Jul 2020   4,605 miles    Automatic    Grey     5 door SUV         3L  \n",
       "3  Dec 2021   1,614 miles    Automatic   White  4 door Saloon   Electric  \n",
       "4  Mar 2018  26,375 miles    Automatic    Grey     5 door SUV         3L  "
      ]
     },
     "execution_count": 18,
     "metadata": {},
     "output_type": "execute_result"
    }
   ],
   "source": [
    "df = df.drop(columns =['Unnamed: 0', 'car_page_url'])\n",
    "df.head()"
   ]
  },
  {
   "cell_type": "markdown",
   "id": "0df11817-32d3-4b86-9192-bda4f9a0fc6a",
   "metadata": {},
   "source": [
    "### Creating & Cleaning Columns for Model"
   ]
  },
  {
   "cell_type": "markdown",
   "id": "d38af365-80aa-4454-88fd-91d7d0078603",
   "metadata": {},
   "source": [
    "#### Creating a `make` Column\n",
    "\n",
    "Separating the Car Make from `model`.\n",
    "\n",
    "Land Rover and Alfa Romeo require some additional editing as they are Makes are made up of two words."
   ]
  },
  {
   "cell_type": "code",
   "execution_count": 19,
   "id": "bf49477f-0614-4e0d-8f9d-de3499aeb574",
   "metadata": {},
   "outputs": [],
   "source": [
    "df['car_make'] = df['model'].str.split(' ').str[0]\n",
    "df['car_make'] = df['car_make'].replace(['Land'],'Land Rover')\n",
    "df['car_make'] = df['car_make'].replace(['Alfa'],'Alfa Romeo')"
   ]
  },
  {
   "cell_type": "markdown",
   "id": "70154b6f-1ad6-4e5a-a48e-80eb02190e30",
   "metadata": {},
   "source": [
    "#### Refining the `model` Column\n",
    "\n",
    "Refining the `model` column to only incude model and not make.\n",
    "\n",
    "Remove all listings of car models that dont have 6 or more listings. This is because these car models lack enough datapoints on which to make accurate predictions and are likely not very popular car models which our user will want to query.\n",
    "  "
   ]
  },
  {
   "cell_type": "code",
   "execution_count": 20,
   "id": "0d794570-0862-495d-a243-4ea231972d4f",
   "metadata": {
    "tags": []
   },
   "outputs": [],
   "source": [
    "df['model'] = df['model'].str.split(n=1).str[1]\n",
    "df['model'].replace({'Romeo ':''}, regex=True, inplace = True)\n",
    "df['model'].replace({'Rover Range ':'Range ', 'Rover Discovery ':'Discovery '}, regex=True, inplace = True)\n",
    "\n",
    "df = df[df.groupby('model').model.transform(len) > 5]"
   ]
  },
  {
   "cell_type": "code",
   "execution_count": 21,
   "id": "9b57102b-0cfb-412d-a7cb-e1e5695b3cd6",
   "metadata": {},
   "outputs": [
    {
     "data": {
      "text/plain": [
       "Fiesta                  326\n",
       "Golf                    267\n",
       "Hatch                   234\n",
       "A Class                 234\n",
       "Polo                    216\n",
       "                       ... \n",
       "CX-3                      6\n",
       "ProCeed                   6\n",
       "2 Series Gran Tourer      6\n",
       "Berlingo                  6\n",
       "Meriva                    6\n",
       "Name: model, Length: 193, dtype: int64"
      ]
     },
     "execution_count": 21,
     "metadata": {},
     "output_type": "execute_result"
    }
   ],
   "source": [
    "df['model'].value_counts()"
   ]
  },
  {
   "cell_type": "markdown",
   "id": "97671178-52f9-460e-aa24-f32fef6e6e92",
   "metadata": {},
   "source": [
    "#### Refining the `listing_price` Column"
   ]
  },
  {
   "cell_type": "code",
   "execution_count": 22,
   "id": "dfe8b13d-9c67-4f62-9650-d5235d0ed302",
   "metadata": {},
   "outputs": [],
   "source": [
    "df['listing_price'] = df['listing_price'].str.replace('£','')\n",
    "df['listing_price'] = df['listing_price'].str.replace(',','')\n",
    "df['listing_price'] = df['listing_price'].astype(int)"
   ]
  },
  {
   "cell_type": "markdown",
   "id": "4b2ee2b9-5f39-4b3c-a982-a1918c0b5c75",
   "metadata": {},
   "source": [
    "##### `listing_price` Statistics"
   ]
  },
  {
   "cell_type": "code",
   "execution_count": 24,
   "id": "8455635e-7c43-4804-92da-149f5cc91363",
   "metadata": {},
   "outputs": [
    {
     "data": {
      "text/plain": [
       "count     6909.000000\n",
       "mean     17345.599942\n",
       "std       6968.718920\n",
       "min       5700.000000\n",
       "25%      12350.000000\n",
       "50%      15550.000000\n",
       "75%      21050.000000\n",
       "max      57500.000000\n",
       "Name: listing_price, dtype: float64"
      ]
     },
     "execution_count": 24,
     "metadata": {},
     "output_type": "execute_result"
    }
   ],
   "source": [
    "df['listing_price'].describe()"
   ]
  },
  {
   "cell_type": "markdown",
   "id": "0b4c40ab-66b3-4511-aa2c-b4c03126500f",
   "metadata": {},
   "source": [
    "##### Histogram of `listing_price`"
   ]
  },
  {
   "cell_type": "code",
   "execution_count": 26,
   "id": "0fe57542-c3f5-49b5-8ffd-c35486df6579",
   "metadata": {},
   "outputs": [
    {
     "data": {
      "image/png": "[encoded data removed]",
      "text/plain": [
       "<Figure size 720x504 with 1 Axes>"
      ]
     },
     "metadata": {
      "needs_background": "light"
     },
     "output_type": "display_data"
    }
   ],
   "source": [
    "plt.figure(figsize = (10, 7))\n",
    "plt.title('Distribution of Listing Price')\n",
    "plt.xlabel(\"Listing Price (£)\")\n",
    "plt.ylabel(\"Frequency\")\n",
    "plt.hist(df['listing_price'], bins = 10);\n",
    "plt.savefig('../images/listing_price_dist.png', transparent=True, bbox_inches='tight')\n",
    "plt.show()"
   ]
  },
  {
   "cell_type": "markdown",
   "id": "1156b1f1-2ebb-4762-a5b1-f831a66407fc",
   "metadata": {},
   "source": [
    "#### Creating the `car_age` Column\n",
    "\n",
    "Once `car_age` is calculated, the `reg_date` column will be removed.\n",
    "\n",
    "Cars from 2022 will be assigned a value of 0.5."
   ]
  },
  {
   "cell_type": "code",
   "execution_count": 150,
   "id": "74a2ba53-9d56-4b7c-8c88-97575c129d1e",
   "metadata": {
    "tags": []
   },
   "outputs": [],
   "source": [
    "df['reg_date'] = df['reg_date'].str.split(' ').str[1]\n",
    "df['reg_date'] = df['reg_date'].astype(int)\n",
    "\n",
    "df['car_age'] = 2022 - df['reg_date']\n",
    "df['car_age'].replace([0], 0.5, inplace = True)\n",
    "\n",
    "df = df.drop(columns =['reg_date'])"
   ]
  },
  {
   "cell_type": "code",
   "execution_count": 151,
   "id": "44cd9ff7-0607-42f5-9fc4-8cad2159cd3d",
   "metadata": {},
   "outputs": [
    {
     "data": {
      "text/plain": [
       "3.0    1839\n",
       "4.0    1657\n",
       "5.0    1255\n",
       "6.0     847\n",
       "2.0     599\n",
       "1.0     423\n",
       "7.0     259\n",
       "0.5      29\n",
       "8.0       1\n",
       "Name: car_age, dtype: int64"
      ]
     },
     "execution_count": 151,
     "metadata": {},
     "output_type": "execute_result"
    }
   ],
   "source": [
    "df['car_age'].value_counts()"
   ]
  },
  {
   "cell_type": "markdown",
   "id": "75028e18-cb69-4773-9adb-e0c4ffc269b3",
   "metadata": {},
   "source": [
    "#### Refining the Mileage Column"
   ]
  },
  {
   "cell_type": "code",
   "execution_count": 152,
   "id": "a3a47b69-7b9b-43f3-8d01-2faab20d5528",
   "metadata": {},
   "outputs": [],
   "source": [
    "df['mileage'] = df['mileage'].str.replace('miles','')\n",
    "df['mileage'] = df['mileage'].str.replace(',','')\n",
    "df['mileage'] = df['mileage'].astype(int)"
   ]
  },
  {
   "cell_type": "markdown",
   "id": "6fab5bdf-eeb8-4f05-8ab1-208cd1b2c8bb",
   "metadata": {},
   "source": [
    "#### Refining the Color Column\n",
    "\n",
    "Many Car makes have their own color definitions, as such we need to standardize these into a pre-determined subset of the most common car colors."
   ]
  },
  {
   "cell_type": "code",
   "execution_count": 153,
   "id": "ef98ae46-1cf1-4df6-bb7e-90ad54bfed48",
   "metadata": {
    "tags": []
   },
   "outputs": [
    {
     "data": {
      "text/plain": [
       "Black     1350\n",
       "White     1321\n",
       "Grey      1320\n",
       "Blue      1056\n",
       "Red        866\n",
       "Silver     642\n",
       "Other      199\n",
       "Orange     101\n",
       "Green       54\n",
       "Name: color, dtype: int64"
      ]
     },
     "execution_count": 153,
     "metadata": {},
     "output_type": "execute_result"
    }
   ],
   "source": [
    "list_of_colors = ['Red', 'Blue', 'Black', 'White', 'Grey', 'Silver', 'Orange', 'Green']\n",
    "\n",
    "def color(value):\n",
    "    for i in value.split(' '):\n",
    "        if i.title() in list_of_colors:\n",
    "            return i.title()\n",
    "    return 'Other'\n",
    "\n",
    "df['color'] = df['color'].apply(color)\n",
    "df[\"color\"].value_counts()"
   ]
  },
  {
   "cell_type": "markdown",
   "id": "2e9df4a3-df05-4fcd-afe8-35d33d9225f6",
   "metadata": {},
   "source": [
    "#### Saving the Model-Ready Dataframe"
   ]
  },
  {
   "cell_type": "code",
   "execution_count": 154,
   "id": "b56b0577-970e-4e35-b47b-7338f9f82490",
   "metadata": {},
   "outputs": [],
   "source": [
    "df.to_csv('../datasets/cazoo_cleaned.csv', index = False)"
   ]
  }
 ],
 "metadata": {
  "kernelspec": {
   "display_name": "Python 3 (ipykernel)",
   "language": "python",
   "name": "python3"
  },
  "language_info": {
   "codemirror_mode": {
    "name": "ipython",
    "version": 3
   },
   "file_extension": ".py",
   "mimetype": "text/x-python",
   "name": "python",
   "nbconvert_exporter": "python",
   "pygments_lexer": "ipython3",
   "version": "3.10.5"
  }
 },
 "nbformat": 4,
 "nbformat_minor": 5
}
