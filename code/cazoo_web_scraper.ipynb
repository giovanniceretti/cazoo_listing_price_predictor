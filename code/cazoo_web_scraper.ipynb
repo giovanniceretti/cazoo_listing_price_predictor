{
 "cells": [
  {
   "cell_type": "markdown",
   "id": "7574691a-083c-42c9-bfd5-62bac366bee8",
   "metadata": {},
   "source": [
    "# Data Acquisition"
   ]
  },
  {
   "cell_type": "markdown",
   "id": "a1adcd48-a9c5-46ba-9592-42a5d7d8de90",
   "metadata": {},
   "source": [
    "### Imports"
   ]
  },
  {
   "cell_type": "code",
   "execution_count": 68,
   "id": "93c07983-1ace-459c-bab4-415d8f5f0146",
   "metadata": {},
   "outputs": [],
   "source": [
    "import requests\n",
    "from bs4 import BeautifulSoup\n",
    "import pandas as pd\n",
    "import time"
   ]
  },
  {
   "cell_type": "markdown",
   "id": "55e07b4f-9570-4811-abb8-6a0f2740a8fd",
   "metadata": {},
   "source": [
    "### Web-Scraping Function\n",
    "\n",
    "This function is scraping Cazoo, the British online car retailer, and pulling key vehicle characteristics for each listing such as: \n",
    "* Car Brand\n",
    "* Car Model\n",
    "* Price\n",
    "* Mileage\n",
    "* Registration Date\n",
    "* Trim Specs\n",
    "* Engine Specs\n",
    "* Car Body Type"
   ]
  },
  {
   "cell_type": "markdown",
   "id": "bdc5fbcb-6c0b-49cf-a039-61376fbb11d5",
   "metadata": {},
   "source": [
    "#### Extracting Function"
   ]
  },
  {
   "cell_type": "code",
   "execution_count": 69,
   "id": "b0bdf741-4259-44f9-ae18-f0ad243ab624",
   "metadata": {},
   "outputs": [],
   "source": [
    "def extract(page):\n",
    "    '''\n",
    "    This function returns the HTML files from a multi-listing search page allowing for the pulling of url links of individual listings. \n",
    "    The 'page' input enables the user to specify which multi-listing search page they want to target. This allows the user to loop through all multi-listing pages.\n",
    "    '''\n",
    "    headers = {'User-Agent': 'Mozilla/5.0 (Macintosh; Intel Mac OS X 10_15_7) AppleWebKit/537.36 (KHTML, like Gecko) Chrome/103.0.0.0 Safari/537.36'}\n",
    "    url = f'https://www.cazoo.co.uk/cars/?page={page}'\n",
    "    request = requests.get(url, headers)\n",
    "    soup = BeautifulSoup(request.content, 'html.parser')\n",
    "    \n",
    "    return soup"
   ]
  },
  {
   "cell_type": "markdown",
   "id": "4e05e682-efb5-4b8e-9648-6df6f477f6cd",
   "metadata": {},
   "source": [
    "#### Transforming Function"
   ]
  },
  {
   "cell_type": "code",
   "execution_count": 70,
   "id": "757d7ab3-4b7e-4c56-aa83-655b473f7ec8",
   "metadata": {
    "tags": []
   },
   "outputs": [],
   "source": [
    "def transform(soup):\n",
    "    '''\n",
    "    This function pulls the individual listing urls from the multi-listing search page inputted into the 'extract' function.\n",
    "    This list of urls is then used to pull the HTML files from the individual listing web pages.\n",
    "    The function then loops through all of the different individual listing web pages pulling key characteristic elements.\n",
    "    The characteristics for each listing are then fed into a dictionary as an individual entry.\n",
    "    '''\n",
    "    car_links = soup.find_all('div', class_ = 'vehicle-cardstyles__InfoWrap-sc-1bxv5iu-2 feeGku')\n",
    "    for car_link in car_links:\n",
    "        link = car_link.find('a').get('href')\n",
    "        headers = {'User-Agent': 'Mozilla/5.0 (Macintosh; Intel Mac OS X 10_15_7) AppleWebKit/537.36 (KHTML, like Gecko) Chrome/103.0.0.0 Safari/537.36'}\n",
    "        car_url = f'https://www.cazoo.co.uk{link}'\n",
    "        car_requests = requests.get(car_url, headers)\n",
    "        car_soup = BeautifulSoup(car_requests.content, 'html.parser')\n",
    "        \n",
    "        ## Pulling Car Model Element\n",
    "        try:\n",
    "            car_model = car_soup.find('h1', class_='sc-10u69o8-0 kpcZmo').text      \n",
    "        except:\n",
    "            car_model = ''\n",
    "            \n",
    "        ## Car Price\n",
    "        try:\n",
    "            car_price = car_soup.find('p', class_='Pricingstyles__TotalPriceValue-sc-1m171co-4 drnOgY').text\n",
    "        except:\n",
    "            try:\n",
    "                car_price = car_soup.find('p', class_='Pricingstyles__TotalPriceValue-sc-1m171co-4 atSNp').text\n",
    "            except: \n",
    "                car_price = ''\n",
    "            \n",
    "        ## Car Trim\n",
    "        try:\n",
    "            car_trim = car_soup.find('p', class_='sc-yrk414-0 jBtyVi').text\n",
    "        except:\n",
    "            car_trim = ''\n",
    "            \n",
    "        ## Car Registration Date\n",
    "        try:\n",
    "            car_reg_soup = car_soup.find('div', attrs = {'data-test-id' : 'registrationDate'})\n",
    "            car_reg = car_reg_soup.find('dd', class_='list-label-valuestyles__StyledAttributeValue-opn4m9-3 aJytw').text\n",
    "        except:\n",
    "            car_reg = ''\n",
    "            \n",
    "        ## Car Mileage\n",
    "        try:\n",
    "            car_mileage_soup = car_soup.find('div', attrs = {'data-test-id' : 'odometerReading'})\n",
    "            car_mileage = car_mileage_soup.find('dd', class_='list-label-valuestyles__StyledAttributeValue-opn4m9-3 aJytw').text\n",
    "        except:\n",
    "            car_mileage = ''\n",
    "            \n",
    "        ## Car Transmission\n",
    "        try:\n",
    "            car_transmission_soup = car_soup.find('div', attrs = {'data-test-id' : 'gearbox'})\n",
    "            car_transmission = car_transmission_soup.find('dd', class_='list-label-valuestyles__StyledAttributeValue-opn4m9-3 aJytw').text\n",
    "        except:\n",
    "            car_transmission = ''\n",
    "            \n",
    "        ## Car Color\n",
    "        try:\n",
    "            car_color_soup = car_soup.find('div', attrs = {'data-test-id' : 'exteriorColour'})\n",
    "            car_color = car_color_soup.find('dd', class_='list-label-valuestyles__StyledAttributeValue-opn4m9-3 aJytw').text\n",
    "        except:\n",
    "            car_color = ''\n",
    "            \n",
    "        ## Car Body\n",
    "        try:\n",
    "            car_body_soup = car_soup.find('div', attrs = {'data-test-id' : 'bodyType'})\n",
    "            car_body = car_body_soup.find('dd', class_='list-label-valuestyles__StyledAttributeValue-opn4m9-3 aJytw').text\n",
    "        except:\n",
    "            car_body = ''\n",
    "            \n",
    "        ## Car Engine\n",
    "        try:\n",
    "            car_engine_soup = car_soup.find('div', attrs = {'data-test-id' : 'engineSize'})\n",
    "            car_engine = car_engine_soup.find('dd', class_='list-label-valuestyles__StyledAttributeValue-opn4m9-3 aJytw').text\n",
    "        except:\n",
    "            car_engine = ''\n",
    "        \n",
    "        ## Create Dictionary\n",
    "        car = {\n",
    "            'model': car_model,\n",
    "            'listing_price': car_price,\n",
    "            'trim': car_trim,\n",
    "            'reg_date': car_reg,\n",
    "            'mileage': car_mileage,\n",
    "            'transmission': car_transmission,\n",
    "            'color': car_color,\n",
    "            'car_body': car_body,\n",
    "            'car_engine': car_engine,\n",
    "            'car_page_url': car_url\n",
    "        }\n",
    "        car_list.append(car)\n",
    "        \n",
    "    return\n",
    "    \n",
    "car_list = []"
   ]
  },
  {
   "cell_type": "markdown",
   "id": "922e89f3-3ebf-4ed3-8bd2-b2cc2110b471",
   "metadata": {},
   "source": [
    "#### Selecting the Final Listing Page Number"
   ]
  },
  {
   "cell_type": "code",
   "execution_count": 71,
   "id": "94b13ba8-e8ba-4460-9d76-60ec2fad6b67",
   "metadata": {},
   "outputs": [
    {
     "name": "stdout",
     "output_type": "stream",
     "text": [
      "154\n"
     ]
    }
   ],
   "source": [
    "final_page_number = 1\n",
    "final_page_element = ''\n",
    "while final_page_element != 'Sorry, this search has no results':\n",
    "    final_page_number += 1\n",
    "    headers = {'User-Agent': 'Mozilla/5.0 (Macintosh; Intel Mac OS X 10_15_7) AppleWebKit/537.36 (KHTML, like Gecko) Chrome/103.0.0.0 Safari/537.36'}\n",
    "    url = f'https://www.cazoo.co.uk/cars/?page={final_page_number}'\n",
    "    request = requests.get(url, headers)\n",
    "    soup = BeautifulSoup(request.content, 'html.parser')\n",
    "    try:\n",
    "        final_page_element = soup.find('h2', class_ = 'sc-yrk414-0 ikGAuA').text\n",
    "    except AttributeError:\n",
    "        pass\n",
    "\n",
    "print(final_page_number)"
   ]
  },
  {
   "cell_type": "markdown",
   "id": "d367accc-8db7-46c0-aaed-5da3aed7d699",
   "metadata": {},
   "source": [
    "#### Launch Function and Save Results to a CSV file"
   ]
  },
  {
   "cell_type": "code",
   "execution_count": 72,
   "id": "1ba4a3cc-c389-46d0-99a9-13ad6cbc95cf",
   "metadata": {},
   "outputs": [
    {
     "name": "stdout",
     "output_type": "stream",
     "text": [
      "7147\n"
     ]
    }
   ],
   "source": [
    "for i in range(1, final_page_number):\n",
    "    time.sleep(30)\n",
    "    c = extract(i)\n",
    "    transform(c)\n",
    "    \n",
    "df = pd.DataFrame(car_list)\n",
    "df.to_csv('../datasets/cazoo_raw_data.csv')"
   ]
  }
 ],
 "metadata": {
  "kernelspec": {
   "display_name": "Python 3 (ipykernel)",
   "language": "python",
   "name": "python3"
  },
  "language_info": {
   "codemirror_mode": {
    "name": "ipython",
    "version": 3
   },
   "file_extension": ".py",
   "mimetype": "text/x-python",
   "name": "python",
   "nbconvert_exporter": "python",
   "pygments_lexer": "ipython3",
   "version": "3.10.5"
  }
 },
 "nbformat": 4,
 "nbformat_minor": 5
}
